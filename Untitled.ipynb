{
 "cells": [
  {
   "cell_type": "code",
   "execution_count": 21,
   "id": "302889f9",
   "metadata": {},
   "outputs": [],
   "source": [
    "import pandas as pd\n",
    "import numpy as np\n",
    "import matplotlib.pyplot as plt\n",
    "import seaborn as sns\n",
    "from sklearn.preprocessing import MinMaxScaler, StandardScaler,OneHotEncoder, LabelEncoder\n",
    "from sklearn.model_selection import train_test_split\n",
    "import yellowbrick as yl\n",
    "import joblib\n",
    "import pandas as pd \n",
    "from sklearn.model_selection import train_test_split\n",
    "from sklearn.ensemble import RandomForestClassifier\n",
    "from sklearn.preprocessing import OneHotEncoder\n",
    "from sklearn.metrics import mean_squared_error\n",
    "from sklearn.metrics import accuracy_score, precision_score, recall_score, f1_score, confusion_matrix\n",
    "from sklearn.ensemble import AdaBoostClassifier\n",
    "from sklearn import metrics"
   ]
  },
  {
   "cell_type": "code",
   "execution_count": 22,
   "id": "4b408425",
   "metadata": {},
   "outputs": [
    {
     "name": "stdout",
     "output_type": "stream",
     "text": [
      "<class 'pandas.core.frame.DataFrame'>\n",
      "RangeIndex: 1910 entries, 0 to 1909\n",
      "Data columns (total 14 columns):\n",
      " #   Column                  Non-Null Count  Dtype  \n",
      "---  ------                  --------------  -----  \n",
      " 0   surname                 1910 non-null   object \n",
      " 1   name                    1910 non-null   object \n",
      " 2   Sender_account          1910 non-null   int64  \n",
      " 3   Receiver_account        1910 non-null   int64  \n",
      " 4   Transaction_amount      1910 non-null   float64\n",
      " 5   Old Balance             1910 non-null   float64\n",
      " 6   NewBalance              1910 non-null   float64\n",
      " 7   Payment_currency        1910 non-null   object \n",
      " 8   Received_currency       1910 non-null   object \n",
      " 9   Sender_bank_location    1910 non-null   object \n",
      " 10  Receiver_bank_location  1910 non-null   object \n",
      " 11  Payment_type            1910 non-null   object \n",
      " 12  FraudResult             1910 non-null   int64  \n",
      " 13  Laundering_type,        1910 non-null   object \n",
      "dtypes: float64(3), int64(3), object(8)\n",
      "memory usage: 209.0+ KB\n"
     ]
    }
   ],
   "source": [
    "### LOADING DATASET#####\n",
    "fraud_data = pd.read_csv(\"transaction_records.csv\")\n",
    "fraud_data.info()"
   ]
  },
  {
   "cell_type": "code",
   "execution_count": 23,
   "id": "1e2883e9",
   "metadata": {},
   "outputs": [
    {
     "data": {
      "text/html": [
       "<div>\n",
       "<style scoped>\n",
       "    .dataframe tbody tr th:only-of-type {\n",
       "        vertical-align: middle;\n",
       "    }\n",
       "\n",
       "    .dataframe tbody tr th {\n",
       "        vertical-align: top;\n",
       "    }\n",
       "\n",
       "    .dataframe thead th {\n",
       "        text-align: right;\n",
       "    }\n",
       "</style>\n",
       "<table border=\"1\" class=\"dataframe\">\n",
       "  <thead>\n",
       "    <tr style=\"text-align: right;\">\n",
       "      <th></th>\n",
       "      <th>surname</th>\n",
       "      <th>name</th>\n",
       "      <th>Sender_account</th>\n",
       "      <th>Receiver_account</th>\n",
       "      <th>Transaction_amount</th>\n",
       "      <th>Old Balance</th>\n",
       "      <th>NewBalance</th>\n",
       "      <th>Payment_currency</th>\n",
       "      <th>Received_currency</th>\n",
       "      <th>Sender_bank_location</th>\n",
       "      <th>Receiver_bank_location</th>\n",
       "      <th>Payment_type</th>\n",
       "      <th>FraudResult</th>\n",
       "      <th>Laundering_type,</th>\n",
       "    </tr>\n",
       "  </thead>\n",
       "  <tbody>\n",
       "    <tr>\n",
       "      <th>0</th>\n",
       "      <td>Chinhava</td>\n",
       "      <td>Samuel</td>\n",
       "      <td>8197072010</td>\n",
       "      <td>9461146315</td>\n",
       "      <td>9487.08</td>\n",
       "      <td>20414.00</td>\n",
       "      <td>10926.92</td>\n",
       "      <td>us dollar</td>\n",
       "      <td>US dollar</td>\n",
       "      <td>ZIM</td>\n",
       "      <td>Singapore</td>\n",
       "      <td>Cross-border</td>\n",
       "      <td>1</td>\n",
       "      <td>Behavioural_Change_2,</td>\n",
       "    </tr>\n",
       "    <tr>\n",
       "      <th>1</th>\n",
       "      <td>Chombo</td>\n",
       "      <td>Felicia</td>\n",
       "      <td>5021785800</td>\n",
       "      <td>4065028145</td>\n",
       "      <td>7734.86</td>\n",
       "      <td>75003.27</td>\n",
       "      <td>67268.41</td>\n",
       "      <td>us dollar</td>\n",
       "      <td>US dollar</td>\n",
       "      <td>ZIM</td>\n",
       "      <td>Singapore</td>\n",
       "      <td>Cross-border</td>\n",
       "      <td>0</td>\n",
       "      <td>Normal_Fan_Out,</td>\n",
       "    </tr>\n",
       "    <tr>\n",
       "      <th>2</th>\n",
       "      <td>Domboka</td>\n",
       "      <td>Linda</td>\n",
       "      <td>3651814546</td>\n",
       "      <td>9273258089</td>\n",
       "      <td>4235.20</td>\n",
       "      <td>9045.00</td>\n",
       "      <td>4809.80</td>\n",
       "      <td>us dollar</td>\n",
       "      <td>US dollar</td>\n",
       "      <td>ZIM</td>\n",
       "      <td>Singapore</td>\n",
       "      <td>Cash Withdrawal</td>\n",
       "      <td>1</td>\n",
       "      <td>Cash_Withdrawal,</td>\n",
       "    </tr>\n",
       "    <tr>\n",
       "      <th>3</th>\n",
       "      <td>Dongo</td>\n",
       "      <td>Stephanie</td>\n",
       "      <td>3651814546</td>\n",
       "      <td>9273258089</td>\n",
       "      <td>9745.40</td>\n",
       "      <td>49692.00</td>\n",
       "      <td>39946.60</td>\n",
       "      <td>us dollar</td>\n",
       "      <td>US dollar</td>\n",
       "      <td>ZIM</td>\n",
       "      <td>Singapore</td>\n",
       "      <td>Cash Withdrawal</td>\n",
       "      <td>1</td>\n",
       "      <td>Cash_Withdrawal,</td>\n",
       "    </tr>\n",
       "    <tr>\n",
       "      <th>4</th>\n",
       "      <td>Fuzani</td>\n",
       "      <td>Dawn</td>\n",
       "      <td>3885905606</td>\n",
       "      <td>933899052</td>\n",
       "      <td>1874.64</td>\n",
       "      <td>50901.00</td>\n",
       "      <td>49026.36</td>\n",
       "      <td>us dollar</td>\n",
       "      <td>US dollar</td>\n",
       "      <td>ZIM</td>\n",
       "      <td>Singapore</td>\n",
       "      <td>Cross-border</td>\n",
       "      <td>1</td>\n",
       "      <td>Behavioural_Change_1,</td>\n",
       "    </tr>\n",
       "  </tbody>\n",
       "</table>\n",
       "</div>"
      ],
      "text/plain": [
       "   surname       name   Sender_account  Receiver_account  Transaction_amount  \\\n",
       "0  Chinhava     Samuel      8197072010        9461146315             9487.08   \n",
       "1    Chombo    Felicia      5021785800        4065028145             7734.86   \n",
       "2  Domboka       Linda      3651814546        9273258089             4235.20   \n",
       "3     Dongo  Stephanie      3651814546        9273258089             9745.40   \n",
       "4    Fuzani       Dawn      3885905606         933899052             1874.64   \n",
       "\n",
       "   Old Balance  NewBalance Payment_currency Received_currency  \\\n",
       "0     20414.00    10926.92        us dollar         US dollar   \n",
       "1     75003.27    67268.41        us dollar         US dollar   \n",
       "2      9045.00     4809.80        us dollar         US dollar   \n",
       "3     49692.00    39946.60        us dollar         US dollar   \n",
       "4     50901.00    49026.36        us dollar         US dollar   \n",
       "\n",
       "  Sender_bank_location Receiver_bank_location     Payment_type  FraudResult  \\\n",
       "0                  ZIM              Singapore     Cross-border            1   \n",
       "1                  ZIM              Singapore     Cross-border            0   \n",
       "2                  ZIM              Singapore  Cash Withdrawal            1   \n",
       "3                  ZIM              Singapore  Cash Withdrawal            1   \n",
       "4                  ZIM              Singapore     Cross-border            1   \n",
       "\n",
       "        Laundering_type,  \n",
       "0  Behavioural_Change_2,  \n",
       "1        Normal_Fan_Out,  \n",
       "2       Cash_Withdrawal,  \n",
       "3       Cash_Withdrawal,  \n",
       "4  Behavioural_Change_1,  "
      ]
     },
     "execution_count": 23,
     "metadata": {},
     "output_type": "execute_result"
    }
   ],
   "source": [
    "fraud_data.head()"
   ]
  },
  {
   "cell_type": "code",
   "execution_count": 24,
   "id": "d0213e25",
   "metadata": {},
   "outputs": [
    {
     "data": {
      "text/plain": [
       "surname                   0\n",
       "name                      0\n",
       "Sender_account            0\n",
       "Receiver_account          0\n",
       "Transaction_amount        0\n",
       "Old Balance               0\n",
       "NewBalance                0\n",
       "Payment_currency          0\n",
       "Received_currency         0\n",
       "Sender_bank_location      0\n",
       "Receiver_bank_location    0\n",
       "Payment_type              0\n",
       "FraudResult               0\n",
       "Laundering_type,          0\n",
       "dtype: int64"
      ]
     },
     "execution_count": 24,
     "metadata": {},
     "output_type": "execute_result"
    }
   ],
   "source": [
    "fraud_data.isna().sum()"
   ]
  },
  {
   "cell_type": "code",
   "execution_count": 25,
   "id": "d951885f",
   "metadata": {},
   "outputs": [
    {
     "data": {
      "text/plain": [
       "Index(['surname ', 'name ', 'Sender_account', 'Receiver_account',\n",
       "       'Transaction_amount', 'Old Balance', 'NewBalance', 'Payment_currency',\n",
       "       'Received_currency', 'Sender_bank_location', 'Receiver_bank_location',\n",
       "       'Payment_type', 'FraudResult', 'Laundering_type,'],\n",
       "      dtype='object')"
      ]
     },
     "execution_count": 25,
     "metadata": {},
     "output_type": "execute_result"
    }
   ],
   "source": [
    "fraud_data.columns"
   ]
  },
  {
   "cell_type": "code",
   "execution_count": 26,
   "id": "a35da0d8",
   "metadata": {},
   "outputs": [],
   "source": [
    "## lets drop customer names\n",
    "fraud_data.drop(['surname ','name ','Sender_account','Receiver_account'], axis=1, inplace= True)"
   ]
  },
  {
   "cell_type": "code",
   "execution_count": 27,
   "id": "b457190a",
   "metadata": {},
   "outputs": [
    {
     "data": {
      "text/html": [
       "<div>\n",
       "<style scoped>\n",
       "    .dataframe tbody tr th:only-of-type {\n",
       "        vertical-align: middle;\n",
       "    }\n",
       "\n",
       "    .dataframe tbody tr th {\n",
       "        vertical-align: top;\n",
       "    }\n",
       "\n",
       "    .dataframe thead th {\n",
       "        text-align: right;\n",
       "    }\n",
       "</style>\n",
       "<table border=\"1\" class=\"dataframe\">\n",
       "  <thead>\n",
       "    <tr style=\"text-align: right;\">\n",
       "      <th></th>\n",
       "      <th>Transaction_amount</th>\n",
       "      <th>Old Balance</th>\n",
       "      <th>NewBalance</th>\n",
       "      <th>Payment_currency</th>\n",
       "      <th>Received_currency</th>\n",
       "      <th>Sender_bank_location</th>\n",
       "      <th>Receiver_bank_location</th>\n",
       "      <th>Payment_type</th>\n",
       "      <th>FraudResult</th>\n",
       "      <th>Laundering_type,</th>\n",
       "    </tr>\n",
       "  </thead>\n",
       "  <tbody>\n",
       "    <tr>\n",
       "      <th>0</th>\n",
       "      <td>9487.08</td>\n",
       "      <td>20414.00</td>\n",
       "      <td>10926.92</td>\n",
       "      <td>us dollar</td>\n",
       "      <td>US dollar</td>\n",
       "      <td>ZIM</td>\n",
       "      <td>Singapore</td>\n",
       "      <td>Cross-border</td>\n",
       "      <td>1</td>\n",
       "      <td>Behavioural_Change_2,</td>\n",
       "    </tr>\n",
       "    <tr>\n",
       "      <th>1</th>\n",
       "      <td>7734.86</td>\n",
       "      <td>75003.27</td>\n",
       "      <td>67268.41</td>\n",
       "      <td>us dollar</td>\n",
       "      <td>US dollar</td>\n",
       "      <td>ZIM</td>\n",
       "      <td>Singapore</td>\n",
       "      <td>Cross-border</td>\n",
       "      <td>0</td>\n",
       "      <td>Normal_Fan_Out,</td>\n",
       "    </tr>\n",
       "    <tr>\n",
       "      <th>2</th>\n",
       "      <td>4235.20</td>\n",
       "      <td>9045.00</td>\n",
       "      <td>4809.80</td>\n",
       "      <td>us dollar</td>\n",
       "      <td>US dollar</td>\n",
       "      <td>ZIM</td>\n",
       "      <td>Singapore</td>\n",
       "      <td>Cash Withdrawal</td>\n",
       "      <td>1</td>\n",
       "      <td>Cash_Withdrawal,</td>\n",
       "    </tr>\n",
       "    <tr>\n",
       "      <th>3</th>\n",
       "      <td>9745.40</td>\n",
       "      <td>49692.00</td>\n",
       "      <td>39946.60</td>\n",
       "      <td>us dollar</td>\n",
       "      <td>US dollar</td>\n",
       "      <td>ZIM</td>\n",
       "      <td>Singapore</td>\n",
       "      <td>Cash Withdrawal</td>\n",
       "      <td>1</td>\n",
       "      <td>Cash_Withdrawal,</td>\n",
       "    </tr>\n",
       "  </tbody>\n",
       "</table>\n",
       "</div>"
      ],
      "text/plain": [
       "   Transaction_amount  Old Balance  NewBalance Payment_currency  \\\n",
       "0             9487.08     20414.00    10926.92        us dollar   \n",
       "1             7734.86     75003.27    67268.41        us dollar   \n",
       "2             4235.20      9045.00     4809.80        us dollar   \n",
       "3             9745.40     49692.00    39946.60        us dollar   \n",
       "\n",
       "  Received_currency Sender_bank_location Receiver_bank_location  \\\n",
       "0         US dollar                  ZIM              Singapore   \n",
       "1         US dollar                  ZIM              Singapore   \n",
       "2         US dollar                  ZIM              Singapore   \n",
       "3         US dollar                  ZIM              Singapore   \n",
       "\n",
       "      Payment_type  FraudResult       Laundering_type,  \n",
       "0     Cross-border            1  Behavioural_Change_2,  \n",
       "1     Cross-border            0        Normal_Fan_Out,  \n",
       "2  Cash Withdrawal            1       Cash_Withdrawal,  \n",
       "3  Cash Withdrawal            1       Cash_Withdrawal,  "
      ]
     },
     "execution_count": 27,
     "metadata": {},
     "output_type": "execute_result"
    }
   ],
   "source": [
    "fraud_data.head(4)"
   ]
  },
  {
   "cell_type": "code",
   "execution_count": 28,
   "id": "fc512afa",
   "metadata": {},
   "outputs": [],
   "source": [
    "lebel = LabelEncoder()\n",
    "fraud_data['Payment_currency'] = lebel.fit_transform(fraud_data['Payment_currency'].astype(str))\n",
    "fraud_data['Received_currency'] = lebel.fit_transform(fraud_data['Received_currency'].astype(str))\n",
    "fraud_data['Sender_bank_location'] = lebel.fit_transform(fraud_data['Sender_bank_location'].astype(str))\n",
    "fraud_data['Receiver_bank_location'] = lebel.fit_transform(fraud_data['Receiver_bank_location'].astype(str))\n",
    "fraud_data['Payment_type'] = lebel.fit_transform(fraud_data['Payment_type'].astype(str))\n",
    "fraud_data['Laundering_type,'] = lebel.fit_transform(fraud_data['Laundering_type,'].astype(str))"
   ]
  },
  {
   "cell_type": "code",
   "execution_count": 29,
   "id": "93d6ef81",
   "metadata": {},
   "outputs": [],
   "source": [
    "X = fraud_data.drop('FraudResult', axis=1)\n",
    "y = fraud_data['FraudResult']"
   ]
  },
  {
   "cell_type": "code",
   "execution_count": 30,
   "id": "4c5f831f",
   "metadata": {},
   "outputs": [],
   "source": [
    "X['Old_Balance'] = X['Old Balance']\n",
    "X.drop('Old Balance', axis=1, inplace=True)"
   ]
  },
  {
   "cell_type": "code",
   "execution_count": 31,
   "id": "92768476",
   "metadata": {},
   "outputs": [
    {
     "name": "stdout",
     "output_type": "stream",
     "text": [
      "[20  0 11 17  2 21  3 19 15 18 14 22  7 13 16  9 12  4  8  1  6  5 10]\n"
     ]
    }
   ],
   "source": [
    "print(fraud_data['Sender_bank_location'].unique())"
   ]
  },
  {
   "cell_type": "code",
   "execution_count": 32,
   "id": "2ec10ebe",
   "metadata": {},
   "outputs": [],
   "source": [
    "X_train, X_test, y_train, y_test = train_test_split(X, y, test_size=0.2, random_state=42)"
   ]
  },
  {
   "cell_type": "code",
   "execution_count": 33,
   "id": "997ecddd",
   "metadata": {},
   "outputs": [],
   "source": [
    "standardscaler = StandardScaler()\n",
    "\n",
    "X_train = standardscaler.fit_transform(X_train)\n",
    "X_test = standardscaler.fit_transform(X_test)"
   ]
  },
  {
   "cell_type": "code",
   "execution_count": 34,
   "id": "dd692eb4",
   "metadata": {},
   "outputs": [
    {
     "data": {
      "text/plain": [
       "array([1, 1, 1, 0, 0, 1, 0, 1, 1, 0, 0, 0, 0, 1, 0, 1, 1, 0, 0, 1, 1, 0,\n",
       "       1, 0, 1, 1, 1, 1, 1, 1, 1, 0, 1, 1, 0, 0, 0, 1, 1, 1, 1, 1, 0, 0,\n",
       "       1, 0, 1, 1, 0, 0, 0, 0, 0, 1, 0, 1, 0, 0, 1, 1, 0, 1, 0, 1, 0, 0,\n",
       "       0, 0, 0, 1, 1, 1, 1, 1, 1, 1, 1, 1, 1, 1, 0, 0, 1, 1, 0, 0, 1, 1,\n",
       "       1, 0, 0, 0, 0, 1, 0, 0, 0, 1, 1, 1, 0, 1, 0, 0, 1, 0, 0, 1, 1, 1,\n",
       "       0, 0, 1, 1, 1, 0, 1, 0, 0, 0, 0, 0, 1, 1, 1, 0, 1, 1, 1, 1, 1, 0,\n",
       "       0, 0, 1, 1, 0, 0, 1, 1, 0, 0, 0, 0, 1, 1, 0, 1, 1, 0, 1, 1, 1, 1,\n",
       "       1, 0, 1, 1, 0, 0, 0, 1, 0, 0, 0, 0, 0, 0, 1, 1, 1, 0, 0, 1, 0, 1,\n",
       "       1, 1, 1, 0, 1, 1, 1, 0, 1, 0, 1, 1, 0, 1, 0, 1, 1, 0, 0, 1, 1, 1,\n",
       "       0, 1, 0, 0, 0, 0, 1, 1, 1, 0, 1, 0, 1, 1, 1, 1, 0, 1, 1, 0, 1, 0,\n",
       "       1, 1, 1, 1, 1, 0, 0, 1, 1, 0, 0, 1, 1, 0, 0, 0, 1, 0, 1, 1, 1, 1,\n",
       "       1, 0, 0, 0, 1, 0, 1, 0, 1, 1, 1, 1, 1, 0, 0, 1, 1, 0, 0, 0, 1, 1,\n",
       "       1, 1, 0, 0, 1, 1, 0, 1, 1, 1, 1, 0, 1, 1, 1, 0, 0, 0, 1, 0, 0, 0,\n",
       "       1, 0, 1, 0, 0, 0, 0, 0, 1, 1, 0, 1, 0, 1, 1, 0, 1, 0, 0, 1, 0, 1,\n",
       "       1, 1, 1, 1, 0, 0, 0, 0, 1, 1, 1, 1, 0, 0, 0, 1, 0, 1, 1, 1, 1, 0,\n",
       "       0, 1, 0, 1, 1, 0, 0, 1, 1, 1, 0, 1, 0, 0, 1, 1, 1, 0, 0, 0, 1, 0,\n",
       "       0, 1, 0, 0, 1, 0, 1, 0, 0, 0, 0, 1, 0, 1, 1, 0, 0, 1, 1, 1, 1, 0,\n",
       "       1, 0, 0, 1, 1, 1, 1, 0], dtype=int64)"
      ]
     },
     "execution_count": 34,
     "metadata": {},
     "output_type": "execute_result"
    }
   ],
   "source": [
    "#### BUILDING model\n",
    "RF = RandomForestClassifier()\n",
    "model= RF.fit(X_train,y_train)\n",
    "y_pred = model.predict(X_test)\n",
    "y_pred"
   ]
  },
  {
   "cell_type": "code",
   "execution_count": 35,
   "id": "9e6a381d",
   "metadata": {},
   "outputs": [
    {
     "name": "stdout",
     "output_type": "stream",
     "text": [
      "Accuracy: 0.9947643979057592\n"
     ]
    }
   ],
   "source": [
    "print(\"Accuracy:\",metrics.accuracy_score(y_test, y_pred))"
   ]
  },
  {
   "cell_type": "code",
   "execution_count": 36,
   "id": "9aef3e8f",
   "metadata": {},
   "outputs": [
    {
     "name": "stdout",
     "output_type": "stream",
     "text": [
      "[1]\n",
      "The transaction is Fraudulent\n"
     ]
    }
   ],
   "source": [
    "### Building predictive system\n",
    "\n",
    "input_data = (7000, 200, 7200, 4, 2, 2, 4, 3, 10)\n",
    "\n",
    "input_data_as_numpy_array = np.asarray(input_data)\n",
    "\n",
    "input_data_reshaped = input_data_as_numpy_array.reshape(1, -1)\n",
    "\n",
    "prediction =model.predict(input_data_reshaped)\n",
    "\n",
    "print(prediction)\n",
    "\n",
    "if(prediction[0]==0):\n",
    "    print(\"The transaction is not fraudulent\")\n",
    "else:\n",
    "    print(\"The transaction is Fraudulent\")\n",
    "    \n"
   ]
  },
  {
   "cell_type": "code",
   "execution_count": 37,
   "id": "94954f7b",
   "metadata": {},
   "outputs": [],
   "source": [
    "import pickle\n",
    "\n",
    "file = \"RFmodel.sav\"\n",
    "pickle.dump(model,open(file, 'wb'))"
   ]
  },
  {
   "cell_type": "code",
   "execution_count": 38,
   "id": "5875ce40",
   "metadata": {},
   "outputs": [
    {
     "data": {
      "text/plain": [
       "Index(['Transaction_amount', 'NewBalance', 'Payment_currency',\n",
       "       'Received_currency', 'Sender_bank_location', 'Receiver_bank_location',\n",
       "       'Payment_type', 'Laundering_type,', 'Old_Balance'],\n",
       "      dtype='object')"
      ]
     },
     "execution_count": 38,
     "metadata": {},
     "output_type": "execute_result"
    }
   ],
   "source": [
    "X.columns"
   ]
  }
 ],
 "metadata": {
  "kernelspec": {
   "display_name": "Python 3 (ipykernel)",
   "language": "python",
   "name": "python3"
  },
  "language_info": {
   "codemirror_mode": {
    "name": "ipython",
    "version": 3
   },
   "file_extension": ".py",
   "mimetype": "text/x-python",
   "name": "python",
   "nbconvert_exporter": "python",
   "pygments_lexer": "ipython3",
   "version": "3.12.3"
  }
 },
 "nbformat": 4,
 "nbformat_minor": 5
}
